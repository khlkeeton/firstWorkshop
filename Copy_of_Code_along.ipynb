{
 "cells": [
  {
   "cell_type": "markdown",
   "id": "1ac2496a-0544-42a1-b140-885e00ce221d",
   "metadata": {
    "id": "1ac2496a-0544-42a1-b140-885e00ce221d"
   },
   "source": [
    "# SymPy for Symbolic Mathematics"
   ]
  },
  {
   "cell_type": "markdown",
   "id": "7a61b3f4-1499-490e-a226-3ba3cf29b408",
   "metadata": {
    "id": "7a61b3f4-1499-490e-a226-3ba3cf29b408"
   },
   "source": [
    "The workshop (and Jupyter notebook) below will be used to teach the basics of Python's package \"SymPy\" for usage in symbolic mathematics. Symbolic mathematics is a branch of computational math which focuses on manipulating expressions and equations for analytical solutions, as opposed to numerical analysis.\n",
    "\n",
    "The general syllabus (in order) is as follows:\n",
    "- Introduction to SymPy\n",
    "- Basic syntax and Operations\n",
    "- Simplifying expressions\n",
    "- Calculus\n",
    "- Solving equations\n",
    "- Matrices\n",
    "- Transition to numerical solutions and typesetting\n",
    "- Project: Solving the Schrödinger equation in 1D"
   ]
  },
  {
   "cell_type": "markdown",
   "id": "11c78f2a-d236-4ed0-9003-631607344a5d",
   "metadata": {
    "id": "11c78f2a-d236-4ed0-9003-631607344a5d"
   },
   "source": [
    "## Section 1: Introduction\n",
    "\n",
    "Symbolic computation allows for **exact** representations of mathematical expressions. E.g: upon typing $\\sqrt{2}$ into a calculator, the natural output would be:\n",
    "$$2^{1/2} = 1.414...$$\n",
    "A symbolic calculator would express this value exactly, such that $2^{1/2} = \\sqrt{2}$. Similarly, undefined variables are operated on, and one may plug in numerical values only as a final step. We show the importance of this below."
   ]
  },
  {
   "cell_type": "code",
   "execution_count": 2,
   "id": "970dc248-96d4-48d4-ba80-90bfd944744c",
   "metadata": {
    "colab": {
     "base_uri": "https://localhost:8080/"
    },
    "id": "970dc248-96d4-48d4-ba80-90bfd944744c",
    "outputId": "e94c5751-f7ec-4675-8174-2d47f26fc253"
   },
   "outputs": [
    {
     "data": {
      "text/plain": [
       "1.4142135623730951"
      ]
     },
     "execution_count": 2,
     "metadata": {},
     "output_type": "execute_result"
    }
   ],
   "source": [
    "import sympy #Inherent package in Anaconda\n",
    "import numpy as np\n",
    "import matplotlib.pyplot as plt\n",
    "#plt.style.use(['notebook','grid']) #Don't run this if it returns an error!\n",
    "\n",
    "2**(0.5) #sqrt(2)"
   ]
  },
  {
   "cell_type": "markdown",
   "id": "Yexswqk_PNoj",
   "metadata": {
    "id": "Yexswqk_PNoj"
   },
   "source": [
    "Now do that above with Scypy"
   ]
  },
  {
   "cell_type": "code",
   "execution_count": null,
   "id": "f30f0019-a520-4ad8-ba30-79bcc4366996",
   "metadata": {
    "id": "f30f0019-a520-4ad8-ba30-79bcc4366996"
   },
   "outputs": [],
   "source": []
  },
  {
   "cell_type": "markdown",
   "id": "dxbVUMGWPfP1",
   "metadata": {
    "id": "dxbVUMGWPfP1"
   },
   "source": [
    "Another number"
   ]
  },
  {
   "cell_type": "code",
   "execution_count": null,
   "id": "72043eac-3045-4a6b-a96b-fa44eea9e7c7",
   "metadata": {
    "id": "72043eac-3045-4a6b-a96b-fa44eea9e7c7"
   },
   "outputs": [],
   "source": []
  },
  {
   "cell_type": "code",
   "execution_count": null,
   "id": "12e2bba9-8fd2-4bea-a42e-dbbfeb3b352f",
   "metadata": {
    "id": "12e2bba9-8fd2-4bea-a42e-dbbfeb3b352f"
   },
   "outputs": [],
   "source": []
  },
  {
   "cell_type": "markdown",
   "id": "85df6953-ab46-42ba-a5ef-754b163867f9",
   "metadata": {
    "id": "85df6953-ab46-42ba-a5ef-754b163867f9"
   },
   "source": [
    "SymPy factors out all simplifications that it deems \"optimal\". Other simplifications might not be done automatically."
   ]
  },
  {
   "cell_type": "code",
   "execution_count": 3,
   "id": "1f0e3bd1-b4dc-4e75-8f06-ec252ffbe332",
   "metadata": {
    "colab": {
     "base_uri": "https://localhost:8080/",
     "height": 38
    },
    "id": "1f0e3bd1-b4dc-4e75-8f06-ec252ffbe332",
    "outputId": "52ef809e-4807-4bbb-8027-b584907ebbf0"
   },
   "outputs": [
    {
     "data": {
      "text/latex": [
       "$\\displaystyle x^{2} - y^{2} + 1$"
      ],
      "text/plain": [
       "x**2 - y**2 + 1"
      ]
     },
     "execution_count": 3,
     "metadata": {},
     "output_type": "execute_result"
    }
   ],
   "source": [
    "x, y = sympy.symbols(\"x y\") #Create objects for SymPy operations.\n",
    "fxy = x**2-y**2+1\n",
    "fxy"
   ]
  },
  {
   "cell_type": "markdown",
   "id": "uv-CPh9kP87U",
   "metadata": {
    "id": "uv-CPh9kP87U"
   },
   "source": [
    "Modify equation"
   ]
  },
  {
   "cell_type": "code",
   "execution_count": null,
   "id": "3f22f9f8-b661-42bb-a9f3-e12b9c3a7f1f",
   "metadata": {
    "id": "3f22f9f8-b661-42bb-a9f3-e12b9c3a7f1f"
   },
   "outputs": [],
   "source": []
  },
  {
   "cell_type": "markdown",
   "id": "kNuaQen9QDc4",
   "metadata": {
    "id": "kNuaQen9QDc4"
   },
   "source": [
    "Expand equation"
   ]
  },
  {
   "cell_type": "code",
   "execution_count": null,
   "id": "26430a64-774b-4969-ba88-6281fc38ef7c",
   "metadata": {
    "id": "26430a64-774b-4969-ba88-6281fc38ef7c"
   },
   "outputs": [],
   "source": []
  },
  {
   "cell_type": "markdown",
   "id": "4ALdsHD-QE26",
   "metadata": {
    "id": "4ALdsHD-QE26"
   },
   "source": [
    "Simplify"
   ]
  },
  {
   "cell_type": "code",
   "execution_count": null,
   "id": "3574fde8-ac08-44bf-bc99-776c6bddfdca",
   "metadata": {
    "id": "3574fde8-ac08-44bf-bc99-776c6bddfdca"
   },
   "outputs": [],
   "source": []
  },
  {
   "cell_type": "code",
   "execution_count": 5,
   "id": "a2df372f-014b-4ea2-9190-d5f99b1e86c3",
   "metadata": {
    "id": "a2df372f-014b-4ea2-9190-d5f99b1e86c3"
   },
   "outputs": [],
   "source": [
    "from sympy import *"
   ]
  },
  {
   "cell_type": "markdown",
   "id": "817261d9-28a9-4c0e-8fc2-ec0a1ca5a34d",
   "metadata": {
    "id": "817261d9-28a9-4c0e-8fc2-ec0a1ca5a34d"
   },
   "source": [
    "## Demo: Just a bunch of stuff"
   ]
  },
  {
   "cell_type": "code",
   "execution_count": 6,
   "id": "2ea4757c-9cfa-4ae6-8fba-febe11e5d305",
   "metadata": {
    "colab": {
     "base_uri": "https://localhost:8080/",
     "height": 41
    },
    "id": "2ea4757c-9cfa-4ae6-8fba-febe11e5d305",
    "outputId": "f6ad34f2-a43b-4a52-cd6e-f6468290b4b1"
   },
   "outputs": [
    {
     "data": {
      "text/latex": [
       "$\\displaystyle \\left(- 4 \\sin^{3}{\\left(x \\right)} + 3 \\sin{\\left(x \\right)} + 4 \\cos^{3}{\\left(x \\right)} - 3 \\cos{\\left(x \\right)}\\right)^{2}$"
      ],
      "text/plain": [
       "(-4*sin(x)**3 + 3*sin(x) + 4*cos(x)**3 - 3*cos(x))**2"
      ]
     },
     "execution_count": 6,
     "metadata": {},
     "output_type": "execute_result"
    }
   ],
   "source": [
    "x = symbols(\"x\")\n",
    "expr = ((4*cos(x)**3-3*cos(x))+(3*sin(x)-4*sin(x)**3))**2\n",
    "expr"
   ]
  },
  {
   "cell_type": "code",
   "execution_count": 7,
   "id": "d5094baa-9bd2-4c35-bfa5-c407390f05b3",
   "metadata": {
    "colab": {
     "base_uri": "https://localhost:8080/",
     "height": 38
    },
    "id": "d5094baa-9bd2-4c35-bfa5-c407390f05b3",
    "outputId": "bddd8b45-88fe-4cba-b4f9-2da0bde3d985"
   },
   "outputs": [
    {
     "data": {
      "text/latex": [
       "$\\displaystyle \\sin{\\left(6 x \\right)} + 1$"
      ],
      "text/plain": [
       "sin(6*x) + 1"
      ]
     },
     "execution_count": 7,
     "metadata": {},
     "output_type": "execute_result"
    }
   ],
   "source": [
    "expr.simplify()"
   ]
  },
  {
   "cell_type": "code",
   "execution_count": 8,
   "id": "9fd9a540-f376-4207-9a9f-7ae86c5e7a76",
   "metadata": {
    "colab": {
     "base_uri": "https://localhost:8080/",
     "height": 38
    },
    "id": "9fd9a540-f376-4207-9a9f-7ae86c5e7a76",
    "outputId": "644aacda-6544-4e88-e850-0643adb8f074"
   },
   "outputs": [
    {
     "data": {
      "text/latex": [
       "$\\displaystyle \\sin{\\left(x \\right)} = x$"
      ],
      "text/plain": [
       "Eq(sin(x), x)"
      ]
     },
     "execution_count": 8,
     "metadata": {},
     "output_type": "execute_result"
    }
   ],
   "source": [
    "f = Eq(sin(x),x)\n",
    "f"
   ]
  },
  {
   "cell_type": "code",
   "execution_count": null,
   "id": "92a780a7-8ee0-4fd2-9b6a-073d6c9cdb82",
   "metadata": {
    "id": "92a780a7-8ee0-4fd2-9b6a-073d6c9cdb82"
   },
   "outputs": [],
   "source": [
    "solve(sin(x),x)"
   ]
  },
  {
   "cell_type": "code",
   "execution_count": null,
   "id": "15426078-fb12-4e81-8364-884e7ef6e1df",
   "metadata": {
    "id": "15426078-fb12-4e81-8364-884e7ef6e1df"
   },
   "outputs": [],
   "source": [
    "f = Derivative((x**x**x))\n",
    "f"
   ]
  },
  {
   "cell_type": "code",
   "execution_count": null,
   "id": "037a23a7-246a-40cc-ba54-0ff43a0b78f0",
   "metadata": {
    "id": "037a23a7-246a-40cc-ba54-0ff43a0b78f0"
   },
   "outputs": [],
   "source": [
    "f.doit()"
   ]
  },
  {
   "cell_type": "code",
   "execution_count": null,
   "id": "d0581cc0-2466-479b-88e7-a4637073be9a",
   "metadata": {
    "id": "d0581cc0-2466-479b-88e7-a4637073be9a"
   },
   "outputs": [],
   "source": [
    "f = Integral(exp(-x**2), (x, -oo, oo))\n",
    "f"
   ]
  },
  {
   "cell_type": "code",
   "execution_count": null,
   "id": "6d8844a5-ce78-427e-a0ea-fcacb425e24f",
   "metadata": {
    "id": "6d8844a5-ce78-427e-a0ea-fcacb425e24f"
   },
   "outputs": [],
   "source": [
    "f.doit()"
   ]
  },
  {
   "cell_type": "code",
   "execution_count": null,
   "id": "0e9cb5c6-9adf-41d1-95cf-5c429f376898",
   "metadata": {
    "id": "0e9cb5c6-9adf-41d1-95cf-5c429f376898"
   },
   "outputs": [],
   "source": [
    "y = Function(\"y\")\n",
    "t = symbols(\"t\")\n",
    "f = Eq(y(t).diff(t, t) - y(t), exp(t))\n",
    "f"
   ]
  },
  {
   "cell_type": "code",
   "execution_count": null,
   "id": "075fddfa-4f0e-414c-93ee-de884567601d",
   "metadata": {
    "id": "075fddfa-4f0e-414c-93ee-de884567601d"
   },
   "outputs": [],
   "source": [
    "dsolve(f, y(t))"
   ]
  },
  {
   "cell_type": "code",
   "execution_count": null,
   "id": "2c623aa8-c842-4219-8daa-537726a30e99",
   "metadata": {
    "id": "2c623aa8-c842-4219-8daa-537726a30e99"
   },
   "outputs": [],
   "source": [
    "f = Matrix([[1, 2], [2, 2]])#.eigenvals()\n",
    "f"
   ]
  },
  {
   "cell_type": "code",
   "execution_count": null,
   "id": "608c6ef0-52a4-4c38-bebe-155defb6aa9d",
   "metadata": {
    "id": "608c6ef0-52a4-4c38-bebe-155defb6aa9d"
   },
   "outputs": [],
   "source": [
    "f.eigenvals()"
   ]
  },
  {
   "cell_type": "markdown",
   "id": "0d09330a-4f6d-4f91-b6ac-6ff7036fc4f2",
   "metadata": {
    "id": "0d09330a-4f6d-4f91-b6ac-6ff7036fc4f2"
   },
   "source": [
    "## Section 2: Basic Syntax and Operations\n"
   ]
  },
  {
   "cell_type": "markdown",
   "id": "51b00664-f490-43ec-afc6-5a8e1043a8c8",
   "metadata": {
    "id": "51b00664-f490-43ec-afc6-5a8e1043a8c8"
   },
   "source": [
    "One can check the functionality, arguments, outputs, etc. for a method/object by using the help() function. Jupyter notebook can intuitively search methods and output documentation by using a ? after the specific method."
   ]
  },
  {
   "cell_type": "code",
   "execution_count": 11,
   "id": "503a5047-8755-4f7e-bf08-bd318dfde54b",
   "metadata": {
    "id": "503a5047-8755-4f7e-bf08-bd318dfde54b",
    "tags": []
   },
   "outputs": [],
   "source": [
    "#\\sympy.acos?"
   ]
  },
  {
   "cell_type": "markdown",
   "id": "ba45535f-ccbd-485d-b98a-6b408a798c3f",
   "metadata": {
    "id": "ba45535f-ccbd-485d-b98a-6b408a798c3f"
   },
   "source": [
    "We import the all functions and classes from SymPy more seamlessly."
   ]
  },
  {
   "cell_type": "code",
   "execution_count": null,
   "id": "ca53cb73-dcf7-4515-8df2-cb6c9e4c3082",
   "metadata": {
    "id": "ca53cb73-dcf7-4515-8df2-cb6c9e4c3082"
   },
   "outputs": [],
   "source": []
  },
  {
   "cell_type": "markdown",
   "id": "63c5869c-653f-4c85-adb2-266572c10e90",
   "metadata": {
    "id": "63c5869c-653f-4c85-adb2-266572c10e90"
   },
   "source": [
    "In general, a SymPy object + a Python object makes a SymPy object. However, assigning one of our SymPy objects as a variable rewrites the prior stored SymPy object. **This doesn't change expressions that were assigned based on that object**."
   ]
  },
  {
   "cell_type": "code",
   "execution_count": null,
   "id": "47072b4c-bda7-4c7a-8c02-ae9cb691322d",
   "metadata": {
    "id": "47072b4c-bda7-4c7a-8c02-ae9cb691322d"
   },
   "outputs": [],
   "source": []
  },
  {
   "cell_type": "code",
   "execution_count": null,
   "id": "0252c4b9-828a-47b9-8c29-ea59c559aeaf",
   "metadata": {
    "id": "0252c4b9-828a-47b9-8c29-ea59c559aeaf"
   },
   "outputs": [],
   "source": []
  },
  {
   "cell_type": "markdown",
   "id": "73e3b8b8-86ac-4b83-bbbc-d7e395becb83",
   "metadata": {
    "id": "73e3b8b8-86ac-4b83-bbbc-d7e395becb83"
   },
   "source": [
    "The subs method changes all instances of the first input with the second input."
   ]
  },
  {
   "cell_type": "code",
   "execution_count": null,
   "id": "84115de6-655a-44c3-b60a-728967983d46",
   "metadata": {
    "id": "84115de6-655a-44c3-b60a-728967983d46"
   },
   "outputs": [],
   "source": []
  },
  {
   "cell_type": "code",
   "execution_count": null,
   "id": "0138154b-e6e2-4c6d-98da-5f7bade5cf89",
   "metadata": {
    "id": "0138154b-e6e2-4c6d-98da-5f7bade5cf89"
   },
   "outputs": [],
   "source": []
  },
  {
   "cell_type": "markdown",
   "id": "ed87ccc0-b5f3-4a96-abe0-d90ce22e4bbb",
   "metadata": {
    "id": "ed87ccc0-b5f3-4a96-abe0-d90ce22e4bbb"
   },
   "source": [
    "We can substitute multiple variables at once."
   ]
  },
  {
   "cell_type": "code",
   "execution_count": null,
   "id": "066f1269-1f8f-4cce-b5f1-e1f4afd28fa9",
   "metadata": {
    "id": "066f1269-1f8f-4cce-b5f1-e1f4afd28fa9"
   },
   "outputs": [],
   "source": []
  },
  {
   "cell_type": "code",
   "execution_count": null,
   "id": "85ed89a6-2a13-4e23-bbb5-8235ae930f26",
   "metadata": {
    "id": "85ed89a6-2a13-4e23-bbb5-8235ae930f26"
   },
   "outputs": [],
   "source": [
    "init_session()"
   ]
  },
  {
   "cell_type": "markdown",
   "id": "a8340415-3722-449e-b7ae-374765a092c1",
   "metadata": {
    "id": "a8340415-3722-449e-b7ae-374765a092c1"
   },
   "source": [
    "The = (equals) sign is strictly for variable assignment. The == formalism is used as is typically; it determines whether two objects are equal (both in data type and value)."
   ]
  },
  {
   "cell_type": "code",
   "execution_count": null,
   "id": "c8ff3704-878d-43ea-a2fd-4566defdd37c",
   "metadata": {
    "id": "c8ff3704-878d-43ea-a2fd-4566defdd37c"
   },
   "outputs": [],
   "source": []
  },
  {
   "cell_type": "markdown",
   "id": "74acf642-3e8f-4afb-a409-c382242d6136",
   "metadata": {
    "id": "74acf642-3e8f-4afb-a409-c382242d6136"
   },
   "source": [
    "Note also that == also qualifies the *structure* of an object/variable. Take for example:\n",
    "$$\\left(x - 1\\right) \\left(x + 1\\right)\n",
    "= x^{2} - 1$$"
   ]
  },
  {
   "cell_type": "code",
   "execution_count": null,
   "id": "a9682243-bf57-4654-ba45-adcf2e698486",
   "metadata": {
    "id": "a9682243-bf57-4654-ba45-adcf2e698486"
   },
   "outputs": [],
   "source": []
  },
  {
   "cell_type": "markdown",
   "id": "c47502fa-4aad-418e-99f5-b6979146f1b9",
   "metadata": {
    "id": "c47502fa-4aad-418e-99f5-b6979146f1b9"
   },
   "source": [
    "E.g, structure can refer to the number of operations, whether they are additions, subtractions, etc. However, there is an intuitive way of checking equality:"
   ]
  },
  {
   "cell_type": "code",
   "execution_count": null,
   "id": "8972015d-f5eb-4dfe-bf38-dd33f12a62bf",
   "metadata": {
    "id": "8972015d-f5eb-4dfe-bf38-dd33f12a62bf"
   },
   "outputs": [],
   "source": []
  },
  {
   "cell_type": "markdown",
   "id": "be4db22f-e0cc-4208-a43d-3553258249ef",
   "metadata": {
    "id": "be4db22f-e0cc-4208-a43d-3553258249ef"
   },
   "source": [
    "https://en.wikipedia.org/wiki/Richardson%27s_theorem"
   ]
  },
  {
   "cell_type": "markdown",
   "id": "eb5836ae-5204-4466-adea-1f2900fd8d6f",
   "metadata": {
    "id": "eb5836ae-5204-4466-adea-1f2900fd8d6f"
   },
   "source": [
    "One can also check numerically using the *equals* method:"
   ]
  },
  {
   "cell_type": "code",
   "execution_count": null,
   "id": "103887a0-ce9e-490e-a6a6-cf2b7327fbbe",
   "metadata": {
    "id": "103887a0-ce9e-490e-a6a6-cf2b7327fbbe"
   },
   "outputs": [],
   "source": []
  },
  {
   "cell_type": "markdown",
   "id": "9f1e198f-4406-4c09-8f67-eb30510be26f",
   "metadata": {
    "id": "9f1e198f-4406-4c09-8f67-eb30510be26f"
   },
   "source": [
    "All this being said, we create equalities by using the *Eq* method instead of variable assignment."
   ]
  },
  {
   "cell_type": "code",
   "execution_count": null,
   "id": "a218eb56-e65d-4ca1-91aa-a406c9a1bf0a",
   "metadata": {
    "id": "a218eb56-e65d-4ca1-91aa-a406c9a1bf0a"
   },
   "outputs": [],
   "source": []
  },
  {
   "cell_type": "markdown",
   "id": "34fad492-97f0-4620-8370-8b11f0b3629b",
   "metadata": {
    "id": "34fad492-97f0-4620-8370-8b11f0b3629b"
   },
   "source": [
    "We don't discuss data types in depth. However, we note that SymPy can use nearly any domain for its variables/objects."
   ]
  },
  {
   "cell_type": "code",
   "execution_count": null,
   "id": "b10f915d-7d30-4820-86c8-e2b3fd57cf7f",
   "metadata": {
    "id": "b10f915d-7d30-4820-86c8-e2b3fd57cf7f"
   },
   "outputs": [],
   "source": []
  },
  {
   "cell_type": "markdown",
   "id": "a45dee81-922c-45a1-8a56-b7566b8a1de2",
   "metadata": {
    "id": "a45dee81-922c-45a1-8a56-b7566b8a1de2"
   },
   "source": [
    "# Section 3: Simplifying Expressions"
   ]
  },
  {
   "cell_type": "markdown",
   "id": "e3e4cdbf-879c-452c-b53f-ae64f381352b",
   "metadata": {
    "id": "e3e4cdbf-879c-452c-b53f-ae64f381352b"
   },
   "source": [
    "The *simplify* function seen prior can handle a large class of expressions. Take for example:"
   ]
  },
  {
   "cell_type": "code",
   "execution_count": null,
   "id": "50987ef0-483c-4d8d-8757-0765b80de4d1",
   "metadata": {
    "id": "50987ef0-483c-4d8d-8757-0765b80de4d1"
   },
   "outputs": [],
   "source": []
  },
  {
   "cell_type": "code",
   "execution_count": null,
   "id": "031ca05e-6a52-4cb9-a5cd-daacf3f47ce7",
   "metadata": {
    "id": "031ca05e-6a52-4cb9-a5cd-daacf3f47ce7"
   },
   "outputs": [],
   "source": []
  },
  {
   "cell_type": "markdown",
   "id": "a9820276-cb04-40ff-a608-124a8b223cee",
   "metadata": {
    "id": "a9820276-cb04-40ff-a608-124a8b223cee"
   },
   "source": [
    "However, simplification is not the most well-defined term. E.g:"
   ]
  },
  {
   "cell_type": "code",
   "execution_count": null,
   "id": "9cd8e153-49c6-4ce9-b87b-5ea23d9a17b5",
   "metadata": {
    "id": "9cd8e153-49c6-4ce9-b87b-5ea23d9a17b5"
   },
   "outputs": [],
   "source": []
  },
  {
   "cell_type": "markdown",
   "id": "5457179c-1b19-40ae-b98f-f099cdeaa58b",
   "metadata": {
    "id": "5457179c-1b19-40ae-b98f-f099cdeaa58b"
   },
   "source": [
    "*Expand* and *factor* are both used similarly to *simplify*. However, by passing either, we choose to employ a specific type of simplification. In either case, we employ **polynomial/rational function simplification**.\n",
    "\n",
    "*Expand* will take an expression and will output a structure exclusively composed of monomial terms. This may simplify some expressions as a result.\n",
    "\n",
    "*Factor* performs the opposite of *expand* and is guaranteed to provide an irreducible expression.\n"
   ]
  },
  {
   "cell_type": "code",
   "execution_count": null,
   "id": "aa34fb45-45c3-4947-9585-705846128dda",
   "metadata": {
    "id": "aa34fb45-45c3-4947-9585-705846128dda"
   },
   "outputs": [],
   "source": []
  },
  {
   "cell_type": "code",
   "execution_count": null,
   "id": "ab81a10f-4a46-4379-b52b-d74da0be3083",
   "metadata": {
    "id": "ab81a10f-4a46-4379-b52b-d74da0be3083"
   },
   "outputs": [],
   "source": []
  },
  {
   "cell_type": "code",
   "execution_count": null,
   "id": "0d1caece-63d5-4105-a0ab-74867808ad43",
   "metadata": {
    "id": "0d1caece-63d5-4105-a0ab-74867808ad43"
   },
   "outputs": [],
   "source": []
  },
  {
   "cell_type": "code",
   "execution_count": null,
   "id": "57c8e4b7-1354-481c-b003-3c40c5cc6fde",
   "metadata": {
    "id": "57c8e4b7-1354-481c-b003-3c40c5cc6fde"
   },
   "outputs": [],
   "source": []
  },
  {
   "cell_type": "code",
   "execution_count": null,
   "id": "d20a7742-2a40-4b38-b2f2-4f8a2facaf8d",
   "metadata": {
    "id": "d20a7742-2a40-4b38-b2f2-4f8a2facaf8d"
   },
   "outputs": [],
   "source": []
  },
  {
   "cell_type": "code",
   "execution_count": null,
   "id": "b86489ed-e84a-4ffc-98ef-3824fdc4f68c",
   "metadata": {
    "id": "b86489ed-e84a-4ffc-98ef-3824fdc4f68c"
   },
   "outputs": [],
   "source": []
  },
  {
   "cell_type": "code",
   "execution_count": null,
   "id": "071775bb-7a16-429a-adc9-e3101188d5b6",
   "metadata": {
    "id": "071775bb-7a16-429a-adc9-e3101188d5b6"
   },
   "outputs": [],
   "source": []
  },
  {
   "cell_type": "markdown",
   "id": "045ef7c1-93e2-46e5-b468-0dcbf0f0dd63",
   "metadata": {
    "id": "045ef7c1-93e2-46e5-b468-0dcbf0f0dd63"
   },
   "source": [
    "*Collect* collects common powers of a term."
   ]
  },
  {
   "cell_type": "code",
   "execution_count": null,
   "id": "7668599f-f00c-468b-b66a-06f3b9240f84",
   "metadata": {
    "id": "7668599f-f00c-468b-b66a-06f3b9240f84"
   },
   "outputs": [],
   "source": []
  },
  {
   "cell_type": "code",
   "execution_count": null,
   "id": "b8ed42fa-02e4-4e11-93c2-527228046a1c",
   "metadata": {
    "id": "b8ed42fa-02e4-4e11-93c2-527228046a1c"
   },
   "outputs": [],
   "source": []
  },
  {
   "cell_type": "code",
   "execution_count": null,
   "id": "214de9d2-cee4-456d-9fe6-0d275b85f192",
   "metadata": {
    "id": "214de9d2-cee4-456d-9fe6-0d275b85f192"
   },
   "outputs": [],
   "source": []
  },
  {
   "cell_type": "markdown",
   "id": "5fa34fa0-e464-46f3-8dd6-ae2ef20133a4",
   "metadata": {
    "id": "5fa34fa0-e464-46f3-8dd6-ae2ef20133a4"
   },
   "source": [
    "*Cancel* will simplify any expression into the form $\\frac{p}{q}$. Factor can be used to do the same, but running cancel specifies a simplification algorithm, and is faster as a result."
   ]
  },
  {
   "cell_type": "code",
   "execution_count": null,
   "id": "e4fd451c-a316-49a0-87f3-f92b644fd797",
   "metadata": {
    "id": "e4fd451c-a316-49a0-87f3-f92b644fd797"
   },
   "outputs": [],
   "source": []
  },
  {
   "cell_type": "code",
   "execution_count": null,
   "id": "9b6bd29c-f09e-48b3-a4ac-930564973c25",
   "metadata": {
    "id": "9b6bd29c-f09e-48b3-a4ac-930564973c25"
   },
   "outputs": [],
   "source": []
  },
  {
   "cell_type": "markdown",
   "id": "b6befa8e-e0bd-4b61-ab1b-58b2f05eac07",
   "metadata": {
    "id": "b6befa8e-e0bd-4b61-ab1b-58b2f05eac07"
   },
   "source": [
    "*Apart* performs partial fraction decomposition."
   ]
  },
  {
   "cell_type": "code",
   "execution_count": null,
   "id": "71ec057a-52b6-4b00-8a77-f2e26ff21846",
   "metadata": {
    "id": "71ec057a-52b6-4b00-8a77-f2e26ff21846"
   },
   "outputs": [],
   "source": []
  },
  {
   "cell_type": "code",
   "execution_count": null,
   "id": "170e16f8-40b5-4d7b-9c76-4bf84769cf92",
   "metadata": {
    "id": "170e16f8-40b5-4d7b-9c76-4bf84769cf92"
   },
   "outputs": [],
   "source": []
  },
  {
   "cell_type": "markdown",
   "id": "3dc6f2d5-1cbe-457f-9926-b5ad53e20ea0",
   "metadata": {
    "id": "3dc6f2d5-1cbe-457f-9926-b5ad53e20ea0"
   },
   "source": [
    "More on simplification in SymPy's documentation:\n",
    "https://docs.sympy.org/latest/tutorials/intro-tutorial/simplification.html"
   ]
  },
  {
   "cell_type": "markdown",
   "id": "4a5a74d5-4960-4f81-90c6-5f3056ed9d44",
   "metadata": {
    "id": "4a5a74d5-4960-4f81-90c6-5f3056ed9d44"
   },
   "source": [
    "## Demo: Periodic Fractions"
   ]
  },
  {
   "cell_type": "code",
   "execution_count": null,
   "id": "7987b7e2-b395-4f88-8e85-0ecd324656af",
   "metadata": {
    "id": "7987b7e2-b395-4f88-8e85-0ecd324656af"
   },
   "outputs": [],
   "source": [
    "def list_to_frac(l):\n",
    "    expr = Integer(0)\n",
    "    for i in reversed(l[1:]):\n",
    "        expr += i\n",
    "        expr = 1/expr\n",
    "    return l[0] + expr\n",
    "list_to_frac([x, y, z])"
   ]
  },
  {
   "cell_type": "code",
   "execution_count": null,
   "id": "f3e0a61c-2e40-477b-ba3c-3f72c549d1a7",
   "metadata": {
    "id": "f3e0a61c-2e40-477b-ba3c-3f72c549d1a7"
   },
   "outputs": [],
   "source": [
    "syms = symbols('a0:5')\n",
    "syms"
   ]
  },
  {
   "cell_type": "code",
   "execution_count": null,
   "id": "4fdd35f8-bb17-4423-a93d-2d04abd4ce41",
   "metadata": {
    "id": "4fdd35f8-bb17-4423-a93d-2d04abd4ce41"
   },
   "outputs": [],
   "source": [
    "a0, a1, a2, a3, a4 = syms\n",
    "frac = list_to_frac(syms)\n",
    "frac"
   ]
  },
  {
   "cell_type": "code",
   "execution_count": null,
   "id": "884c4a0f-88b2-4ddd-ad6a-afeb5bc6109b",
   "metadata": {
    "id": "884c4a0f-88b2-4ddd-ad6a-afeb5bc6109b"
   },
   "outputs": [],
   "source": [
    "frac = cancel(frac)\n",
    "frac"
   ]
  },
  {
   "cell_type": "markdown",
   "id": "0e5328c9-5963-4211-8986-ab44389b97fb",
   "metadata": {
    "id": "0e5328c9-5963-4211-8986-ab44389b97fb"
   },
   "source": [
    "SymPy's doc also goes further in this example :)"
   ]
  },
  {
   "cell_type": "markdown",
   "id": "5351ee6b-9f28-41fe-a6a9-9a45f542e796",
   "metadata": {
    "id": "5351ee6b-9f28-41fe-a6a9-9a45f542e796"
   },
   "source": [
    "## Section 4: Calculus\n"
   ]
  },
  {
   "cell_type": "markdown",
   "id": "f508895e-6f6a-4077-b02a-0451e5f95e35",
   "metadata": {
    "id": "f508895e-6f6a-4077-b02a-0451e5f95e35"
   },
   "source": [
    "The *Limit* (caps sensitive) function creates an expression for a limit. Using the lower-case *limit* simply returns the answer to the limit. For the former, .doit() also returns the result. Both have the same arguments: Limit(function, variable, value, side == \"+\"). One should use *limit* instead of subs when approaching a singularity."
   ]
  },
  {
   "cell_type": "code",
   "execution_count": null,
   "id": "06320fec-0604-4471-981a-cd655539ba74",
   "metadata": {
    "id": "06320fec-0604-4471-981a-cd655539ba74"
   },
   "outputs": [],
   "source": []
  },
  {
   "cell_type": "code",
   "execution_count": null,
   "id": "2b0bbe51-09ea-42a9-9b11-7854f90dfda6",
   "metadata": {
    "id": "2b0bbe51-09ea-42a9-9b11-7854f90dfda6"
   },
   "outputs": [],
   "source": []
  },
  {
   "cell_type": "code",
   "execution_count": null,
   "id": "8cecd007-4299-4ddc-80d6-9cee3a45b444",
   "metadata": {
    "id": "8cecd007-4299-4ddc-80d6-9cee3a45b444"
   },
   "outputs": [],
   "source": []
  },
  {
   "cell_type": "code",
   "execution_count": null,
   "id": "91ef5a6d-e776-456b-9926-562e75bbc6fd",
   "metadata": {
    "id": "91ef5a6d-e776-456b-9926-562e75bbc6fd"
   },
   "outputs": [],
   "source": []
  },
  {
   "cell_type": "code",
   "execution_count": null,
   "id": "b2062800-a224-4e9f-8ff3-305ddece0d9a",
   "metadata": {
    "id": "b2062800-a224-4e9f-8ff3-305ddece0d9a"
   },
   "outputs": [],
   "source": []
  },
  {
   "cell_type": "code",
   "execution_count": null,
   "id": "f7d7e455-7fcb-47de-b83a-5919038bd970",
   "metadata": {
    "id": "f7d7e455-7fcb-47de-b83a-5919038bd970"
   },
   "outputs": [],
   "source": []
  },
  {
   "cell_type": "markdown",
   "id": "4a886b96-052c-48ce-86c1-7b14daed86bb",
   "metadata": {
    "id": "4a886b96-052c-48ce-86c1-7b14daed86bb"
   },
   "source": [
    "The *diff* function is used to take derivatives. Inputs are diff(function, reference variable). One can create an unevaluated derivative using *Derivative* with the same inputs."
   ]
  },
  {
   "cell_type": "code",
   "execution_count": null,
   "id": "146dd645-4659-42f2-a956-6c15f711b1da",
   "metadata": {
    "id": "146dd645-4659-42f2-a956-6c15f711b1da"
   },
   "outputs": [],
   "source": []
  },
  {
   "cell_type": "code",
   "execution_count": null,
   "id": "40268281-ef88-40b4-b037-40e793ba38ae",
   "metadata": {
    "id": "40268281-ef88-40b4-b037-40e793ba38ae"
   },
   "outputs": [],
   "source": []
  },
  {
   "cell_type": "code",
   "execution_count": null,
   "id": "f020e205-9a2f-4447-8bfb-00c9ede0948c",
   "metadata": {
    "id": "f020e205-9a2f-4447-8bfb-00c9ede0948c"
   },
   "outputs": [],
   "source": []
  },
  {
   "cell_type": "code",
   "execution_count": null,
   "id": "fa8f64a0-76cf-4c13-83d4-b491930c486c",
   "metadata": {
    "id": "fa8f64a0-76cf-4c13-83d4-b491930c486c"
   },
   "outputs": [],
   "source": []
  },
  {
   "cell_type": "code",
   "execution_count": null,
   "id": "9ba6c163-a6f5-48a5-a358-74d5cee71d77",
   "metadata": {
    "id": "9ba6c163-a6f5-48a5-a358-74d5cee71d77"
   },
   "outputs": [],
   "source": []
  },
  {
   "cell_type": "code",
   "execution_count": null,
   "id": "8a3b2dcb-6914-4a8a-a11c-e9024db6fe1c",
   "metadata": {
    "id": "8a3b2dcb-6914-4a8a-a11c-e9024db6fe1c"
   },
   "outputs": [],
   "source": []
  },
  {
   "cell_type": "code",
   "execution_count": null,
   "id": "61a5265c-f3c7-4df5-aef8-e908ba8e5d1f",
   "metadata": {
    "id": "61a5265c-f3c7-4df5-aef8-e908ba8e5d1f"
   },
   "outputs": [],
   "source": []
  },
  {
   "cell_type": "code",
   "execution_count": null,
   "id": "a5b53c43-ac11-4fb7-9454-d31cac40b793",
   "metadata": {
    "id": "a5b53c43-ac11-4fb7-9454-d31cac40b793"
   },
   "outputs": [],
   "source": []
  },
  {
   "cell_type": "code",
   "execution_count": null,
   "id": "5ef29758-8c70-4598-a335-d405b1fe9cc4",
   "metadata": {
    "id": "5ef29758-8c70-4598-a335-d405b1fe9cc4"
   },
   "outputs": [],
   "source": []
  },
  {
   "cell_type": "code",
   "execution_count": null,
   "id": "0b7e519d-4b18-4013-b8c2-04982018de97",
   "metadata": {
    "id": "0b7e519d-4b18-4013-b8c2-04982018de97"
   },
   "outputs": [],
   "source": []
  },
  {
   "cell_type": "code",
   "execution_count": null,
   "id": "a4d83f37-9e9f-4c53-bdad-a2c49198a1ca",
   "metadata": {
    "id": "a4d83f37-9e9f-4c53-bdad-a2c49198a1ca"
   },
   "outputs": [],
   "source": []
  },
  {
   "cell_type": "code",
   "execution_count": null,
   "id": "4864b51f-df33-464f-a164-ca11a7097d54",
   "metadata": {
    "id": "4864b51f-df33-464f-a164-ca11a7097d54"
   },
   "outputs": [],
   "source": []
  },
  {
   "cell_type": "markdown",
   "id": "315839ee-500b-4faa-a48d-0413a7edb469",
   "metadata": {
    "id": "315839ee-500b-4faa-a48d-0413a7edb469"
   },
   "source": [
    "The *integrate* function is used to take derivatives. Inputs are integrate(function, reference variable, *bounds). One can create an unevaluated integral using *Integral* with the same inputs."
   ]
  },
  {
   "cell_type": "code",
   "execution_count": null,
   "id": "45dd0bfe-5498-479c-b802-db924177cd14",
   "metadata": {
    "id": "45dd0bfe-5498-479c-b802-db924177cd14"
   },
   "outputs": [],
   "source": []
  },
  {
   "cell_type": "code",
   "execution_count": null,
   "id": "4db0f80c-a4b0-485b-b3d6-7e752d66b385",
   "metadata": {
    "id": "4db0f80c-a4b0-485b-b3d6-7e752d66b385"
   },
   "outputs": [],
   "source": []
  },
  {
   "cell_type": "code",
   "execution_count": null,
   "id": "dda16274-8fa7-41a6-9b2d-5852c12b453b",
   "metadata": {
    "id": "dda16274-8fa7-41a6-9b2d-5852c12b453b"
   },
   "outputs": [],
   "source": []
  },
  {
   "cell_type": "code",
   "execution_count": null,
   "id": "42fb08bd-9493-4842-9001-62ea3237ca7e",
   "metadata": {
    "id": "42fb08bd-9493-4842-9001-62ea3237ca7e"
   },
   "outputs": [],
   "source": []
  },
  {
   "cell_type": "code",
   "execution_count": null,
   "id": "4cf4b48e-8ec6-4889-b2aa-1ca4de14f73e",
   "metadata": {
    "id": "4cf4b48e-8ec6-4889-b2aa-1ca4de14f73e"
   },
   "outputs": [],
   "source": []
  },
  {
   "cell_type": "code",
   "execution_count": null,
   "id": "4f0892d9-bfa9-4ef8-b274-73d918023418",
   "metadata": {
    "id": "4f0892d9-bfa9-4ef8-b274-73d918023418"
   },
   "outputs": [],
   "source": []
  },
  {
   "cell_type": "code",
   "execution_count": null,
   "id": "14c91f0f-8d2f-45d4-97ec-7486806836b8",
   "metadata": {
    "id": "14c91f0f-8d2f-45d4-97ec-7486806836b8"
   },
   "outputs": [],
   "source": []
  },
  {
   "cell_type": "code",
   "execution_count": null,
   "id": "b9d176e7-9bf1-4413-bbbc-044c2089091c",
   "metadata": {
    "id": "b9d176e7-9bf1-4413-bbbc-044c2089091c"
   },
   "outputs": [],
   "source": []
  },
  {
   "cell_type": "code",
   "execution_count": null,
   "id": "92f789be-d489-408d-8c60-e2a1c2b5a3f4",
   "metadata": {
    "id": "92f789be-d489-408d-8c60-e2a1c2b5a3f4"
   },
   "outputs": [],
   "source": []
  },
  {
   "cell_type": "markdown",
   "id": "177a3ce9-c313-4c41-a6ca-ab782a24ad22",
   "metadata": {
    "id": "177a3ce9-c313-4c41-a6ca-ab782a24ad22"
   },
   "source": [
    "The *series* method provides the infinite series expansion for a function about a point. The arguments are: .series(x, x0, n_terms)."
   ]
  },
  {
   "cell_type": "code",
   "execution_count": null,
   "id": "f466de78-bf27-43f3-9dab-1a04862bb048",
   "metadata": {
    "id": "f466de78-bf27-43f3-9dab-1a04862bb048"
   },
   "outputs": [],
   "source": []
  },
  {
   "cell_type": "code",
   "execution_count": null,
   "id": "00b7c42d-b92e-4f49-8700-6c26cf82d82c",
   "metadata": {
    "id": "00b7c42d-b92e-4f49-8700-6c26cf82d82c"
   },
   "outputs": [],
   "source": []
  },
  {
   "cell_type": "code",
   "execution_count": null,
   "id": "e8d5f0b2-47ae-4b73-8530-3b35ed8d2ecf",
   "metadata": {
    "id": "e8d5f0b2-47ae-4b73-8530-3b35ed8d2ecf"
   },
   "outputs": [],
   "source": []
  },
  {
   "cell_type": "markdown",
   "id": "c343ac82-2420-4f7d-96e5-12e07d8babf3",
   "metadata": {
    "id": "c343ac82-2420-4f7d-96e5-12e07d8babf3"
   },
   "source": [
    "The *differentiate_finite* function provides the finite difference for a function. One can substitute any step size desired for the finite difference."
   ]
  },
  {
   "cell_type": "code",
   "execution_count": null,
   "id": "51e6daec-9843-47e8-8501-f9e88b369acf",
   "metadata": {
    "id": "51e6daec-9843-47e8-8501-f9e88b369acf"
   },
   "outputs": [],
   "source": []
  },
  {
   "cell_type": "code",
   "execution_count": null,
   "id": "51617551-b276-4b81-8aa0-059b545a97d2",
   "metadata": {
    "id": "51617551-b276-4b81-8aa0-059b545a97d2"
   },
   "outputs": [],
   "source": []
  },
  {
   "cell_type": "code",
   "execution_count": null,
   "id": "d455ef97-7935-428c-aa68-d43a129f2562",
   "metadata": {
    "id": "d455ef97-7935-428c-aa68-d43a129f2562"
   },
   "outputs": [],
   "source": []
  },
  {
   "cell_type": "code",
   "execution_count": null,
   "id": "79f42cf1-45d7-4619-9473-b0e186f64dec",
   "metadata": {
    "id": "79f42cf1-45d7-4619-9473-b0e186f64dec"
   },
   "outputs": [],
   "source": []
  },
  {
   "cell_type": "markdown",
   "id": "6c774fa6-0cd3-48cc-bc1c-4e24fe756989",
   "metadata": {
    "id": "6c774fa6-0cd3-48cc-bc1c-4e24fe756989"
   },
   "source": [
    "## Demo: Niche Examples"
   ]
  },
  {
   "cell_type": "code",
   "execution_count": null,
   "id": "25874526-0b2f-40f6-b690-aedd43e765b9",
   "metadata": {
    "id": "25874526-0b2f-40f6-b690-aedd43e765b9"
   },
   "outputs": [],
   "source": [
    "a, k, m = symbols(\"a k m\")\n",
    "f = Limit((1+k/x)**(m*x), x, oo, \"+\")\n",
    "f"
   ]
  },
  {
   "cell_type": "code",
   "execution_count": null,
   "id": "1ef5d2a1-2bc9-426d-9f83-7e60a89c573d",
   "metadata": {
    "id": "1ef5d2a1-2bc9-426d-9f83-7e60a89c573d"
   },
   "outputs": [],
   "source": [
    "f.doit()"
   ]
  },
  {
   "cell_type": "code",
   "execution_count": null,
   "id": "c5d437e6-0254-4c96-b0ea-d769b869ac8b",
   "metadata": {
    "id": "c5d437e6-0254-4c96-b0ea-d769b869ac8b"
   },
   "outputs": [],
   "source": [
    "f = Derivative(x**(asec(x)*x),x)\n",
    "f"
   ]
  },
  {
   "cell_type": "code",
   "execution_count": null,
   "id": "d605d96d-a962-4d4c-a793-dffa258a8ee2",
   "metadata": {
    "id": "d605d96d-a962-4d4c-a793-dffa258a8ee2"
   },
   "outputs": [],
   "source": [
    "f.doit()"
   ]
  },
  {
   "cell_type": "code",
   "execution_count": null,
   "id": "85883798-5014-4a2c-a58e-78b1c932f413",
   "metadata": {
    "id": "85883798-5014-4a2c-a58e-78b1c932f413"
   },
   "outputs": [],
   "source": [
    "f = Derivative(a**(x**exp(x)),x)\n",
    "f"
   ]
  },
  {
   "cell_type": "code",
   "execution_count": null,
   "id": "baeeedf9-61c7-4de1-95f7-0e0d2db2eb51",
   "metadata": {
    "id": "baeeedf9-61c7-4de1-95f7-0e0d2db2eb51"
   },
   "outputs": [],
   "source": [
    "f.doit()"
   ]
  },
  {
   "cell_type": "markdown",
   "id": "d8ded92f-bf6e-4c32-82c7-010d193d295b",
   "metadata": {
    "id": "d8ded92f-bf6e-4c32-82c7-010d193d295b"
   },
   "source": [
    "From the 1985 Putnam Exam (Problem B5):"
   ]
  },
  {
   "cell_type": "code",
   "execution_count": null,
   "id": "3872382e-46e4-40ac-a2d5-f7a7da5174cf",
   "metadata": {
    "id": "3872382e-46e4-40ac-a2d5-f7a7da5174cf"
   },
   "outputs": [],
   "source": [
    "f = Integral(exp(-1985*(x+1/x))/sqrt(x), (x,0,oo))\n",
    "f"
   ]
  },
  {
   "cell_type": "code",
   "execution_count": null,
   "id": "18165015-0f11-4d01-9cd4-2eca5df50bc7",
   "metadata": {
    "id": "18165015-0f11-4d01-9cd4-2eca5df50bc7"
   },
   "outputs": [],
   "source": [
    "f.doit().simplify()"
   ]
  },
  {
   "cell_type": "markdown",
   "id": "5f299ad2-6308-48d4-882d-bf7462592d1e",
   "metadata": {
    "id": "5f299ad2-6308-48d4-882d-bf7462592d1e"
   },
   "source": [
    "## Section 5: Solving Equations\n"
   ]
  },
  {
   "cell_type": "markdown",
   "id": "91240839-c15d-4fb4-9c04-389287b3ae96",
   "metadata": {
    "id": "91240839-c15d-4fb4-9c04-389287b3ae96"
   },
   "source": [
    "Recall how to write an equation in Sympy:"
   ]
  },
  {
   "cell_type": "code",
   "execution_count": null,
   "id": "18be009d-6fb9-4eea-987a-97210b71595f",
   "metadata": {
    "id": "18be009d-6fb9-4eea-987a-97210b71595f"
   },
   "outputs": [],
   "source": []
  },
  {
   "cell_type": "code",
   "execution_count": null,
   "id": "26a14699-a571-43f6-9148-926ea1568f65",
   "metadata": {
    "id": "26a14699-a571-43f6-9148-926ea1568f65"
   },
   "outputs": [],
   "source": []
  },
  {
   "cell_type": "markdown",
   "id": "ba4395bc-fdf0-46fb-92a2-48c7121728fd",
   "metadata": {
    "id": "ba4395bc-fdf0-46fb-92a2-48c7121728fd"
   },
   "source": [
    "However, there's a way to solve equations without ever using the *Eq* object.\n",
    "$$x^2 = 2 \\Rightarrow x^2-2 = 0$$"
   ]
  },
  {
   "cell_type": "code",
   "execution_count": null,
   "id": "979d1ac1-f7c5-4f1e-8b9e-391d3a51152d",
   "metadata": {
    "id": "979d1ac1-f7c5-4f1e-8b9e-391d3a51152d"
   },
   "outputs": [],
   "source": []
  },
  {
   "cell_type": "code",
   "execution_count": null,
   "id": "76ef8dc3-0e00-456e-9cff-f3e157cd6d84",
   "metadata": {
    "id": "76ef8dc3-0e00-456e-9cff-f3e157cd6d84"
   },
   "outputs": [],
   "source": []
  },
  {
   "cell_type": "code",
   "execution_count": null,
   "id": "90c20361-55cc-4c36-9730-4bd4272f5d5e",
   "metadata": {
    "id": "90c20361-55cc-4c36-9730-4bd4272f5d5e"
   },
   "outputs": [],
   "source": []
  },
  {
   "cell_type": "code",
   "execution_count": null,
   "id": "3ec6caf3-88cc-4cf2-9e45-f142793a02cc",
   "metadata": {
    "id": "3ec6caf3-88cc-4cf2-9e45-f142793a02cc"
   },
   "outputs": [],
   "source": []
  },
  {
   "cell_type": "markdown",
   "id": "0a3f8af7-7015-49a4-8bb5-b280f60e78fc",
   "metadata": {
    "id": "0a3f8af7-7015-49a4-8bb5-b280f60e78fc"
   },
   "source": [
    "We can use the *solve* function similarly."
   ]
  },
  {
   "cell_type": "code",
   "execution_count": null,
   "id": "5e5504c5-1870-4fe0-83e0-2128843c74a2",
   "metadata": {
    "id": "5e5504c5-1870-4fe0-83e0-2128843c74a2"
   },
   "outputs": [],
   "source": []
  },
  {
   "cell_type": "code",
   "execution_count": null,
   "id": "d05025aa-237b-4876-85ad-a45a8ac8ac26",
   "metadata": {
    "id": "d05025aa-237b-4876-85ad-a45a8ac8ac26"
   },
   "outputs": [],
   "source": []
  },
  {
   "cell_type": "code",
   "execution_count": null,
   "id": "8a8df61b-43c4-488a-99d1-cfe856f3f90a",
   "metadata": {
    "id": "8a8df61b-43c4-488a-99d1-cfe856f3f90a"
   },
   "outputs": [],
   "source": []
  },
  {
   "cell_type": "code",
   "execution_count": null,
   "id": "068496d8-1d99-489d-ab9f-b847c7179cd7",
   "metadata": {
    "id": "068496d8-1d99-489d-ab9f-b847c7179cd7"
   },
   "outputs": [],
   "source": []
  },
  {
   "cell_type": "code",
   "execution_count": null,
   "id": "aa49d449-4709-4c15-b8b5-c14a079e4210",
   "metadata": {
    "id": "aa49d449-4709-4c15-b8b5-c14a079e4210"
   },
   "outputs": [],
   "source": []
  },
  {
   "cell_type": "markdown",
   "id": "ae78d840-7141-4abd-bbde-338184cddcfb",
   "metadata": {
    "id": "ae78d840-7141-4abd-bbde-338184cddcfb"
   },
   "source": [
    "*Linsolve* solves a linear system of equations. It can take in a list of equations or the Augmented matrix form of the system. This is simply a subset of *solveset*."
   ]
  },
  {
   "cell_type": "code",
   "execution_count": null,
   "id": "6669f510-7730-4f24-a910-fb837a378bee",
   "metadata": {
    "id": "6669f510-7730-4f24-a910-fb837a378bee"
   },
   "outputs": [],
   "source": []
  },
  {
   "cell_type": "code",
   "execution_count": null,
   "id": "c0faac9d-4f3c-442b-93f4-43e881cdbb2f",
   "metadata": {
    "id": "c0faac9d-4f3c-442b-93f4-43e881cdbb2f"
   },
   "outputs": [],
   "source": []
  },
  {
   "cell_type": "code",
   "execution_count": null,
   "id": "8189d134-a21c-4f1f-93ad-e6a20e8baa93",
   "metadata": {
    "id": "8189d134-a21c-4f1f-93ad-e6a20e8baa93"
   },
   "outputs": [],
   "source": []
  },
  {
   "cell_type": "code",
   "execution_count": null,
   "id": "a74538bb-0679-4168-9b04-f1e3a2717545",
   "metadata": {
    "id": "a74538bb-0679-4168-9b04-f1e3a2717545"
   },
   "outputs": [],
   "source": []
  },
  {
   "cell_type": "code",
   "execution_count": null,
   "id": "2f5852a3-d233-4fd8-8203-ad92db3e957c",
   "metadata": {
    "id": "2f5852a3-d233-4fd8-8203-ad92db3e957c"
   },
   "outputs": [],
   "source": []
  },
  {
   "cell_type": "markdown",
   "id": "0481a686-193f-496b-97c8-a249de0603fd",
   "metadata": {
    "id": "0481a686-193f-496b-97c8-a249de0603fd"
   },
   "source": [
    "$\\left[\\begin{matrix}1 & 1 & 1\\\\1 & 1 & 2\\end{matrix}\\right]x = \\left[\\begin{matrix}1\\\\3\\end{matrix}\\right]$\n",
    "\n",
    "or Ax = b"
   ]
  },
  {
   "cell_type": "code",
   "execution_count": null,
   "id": "c17277c6-19bf-4e80-9a46-54e8648decfe",
   "metadata": {
    "id": "c17277c6-19bf-4e80-9a46-54e8648decfe"
   },
   "outputs": [],
   "source": []
  },
  {
   "cell_type": "code",
   "execution_count": null,
   "id": "195d178d-e917-4a3b-bad4-46dbc90f4347",
   "metadata": {
    "id": "195d178d-e917-4a3b-bad4-46dbc90f4347"
   },
   "outputs": [],
   "source": []
  },
  {
   "cell_type": "code",
   "execution_count": null,
   "id": "4627dbac-2b48-406a-8ac8-d243452e9611",
   "metadata": {
    "id": "4627dbac-2b48-406a-8ac8-d243452e9611"
   },
   "outputs": [],
   "source": []
  },
  {
   "cell_type": "markdown",
   "id": "13284e87-3cdc-4c43-b7d4-5c85ff4419d0",
   "metadata": {
    "id": "13284e87-3cdc-4c43-b7d4-5c85ff4419d0"
   },
   "source": [
    "Similarly, *nonlinsolve* is a subset of *solveset*. One can find further info in the documentation: https://docs.sympy.org/latest/tutorials/intro-tutorial/solvers.html#solving-equations-algebraically\n"
   ]
  },
  {
   "cell_type": "code",
   "execution_count": null,
   "id": "0b7d5843-b116-456b-bd8e-30f3af7e2964",
   "metadata": {
    "id": "0b7d5843-b116-456b-bd8e-30f3af7e2964"
   },
   "outputs": [],
   "source": []
  },
  {
   "cell_type": "code",
   "execution_count": null,
   "id": "9813db21-c1d7-4ecf-b88b-11e133309557",
   "metadata": {
    "id": "9813db21-c1d7-4ecf-b88b-11e133309557"
   },
   "outputs": [],
   "source": []
  },
  {
   "cell_type": "code",
   "execution_count": null,
   "id": "25a97199-b66c-4cb2-b43f-acc0a1f73eda",
   "metadata": {
    "id": "25a97199-b66c-4cb2-b43f-acc0a1f73eda"
   },
   "outputs": [],
   "source": []
  },
  {
   "cell_type": "code",
   "execution_count": null,
   "id": "aa3ec0af-fb53-4d11-a288-7355ecaa503b",
   "metadata": {
    "id": "aa3ec0af-fb53-4d11-a288-7355ecaa503b"
   },
   "outputs": [],
   "source": []
  },
  {
   "cell_type": "markdown",
   "id": "ca81ff1c-37c8-4bfd-a55f-34d0c01bb9b7",
   "metadata": {
    "id": "ca81ff1c-37c8-4bfd-a55f-34d0c01bb9b7"
   },
   "source": [
    "We use *dsolve* to solve differential equations. The syntax for this is a bit more involved."
   ]
  },
  {
   "cell_type": "code",
   "execution_count": null,
   "id": "a8ac037b-8957-489c-b297-67f7665d864c",
   "metadata": {
    "id": "a8ac037b-8957-489c-b297-67f7665d864c"
   },
   "outputs": [],
   "source": []
  },
  {
   "cell_type": "code",
   "execution_count": null,
   "id": "d4dbcb84-7520-494e-8839-bdfca42dca44",
   "metadata": {
    "id": "d4dbcb84-7520-494e-8839-bdfca42dca44"
   },
   "outputs": [],
   "source": []
  },
  {
   "cell_type": "code",
   "execution_count": null,
   "id": "209ae8bc-f0c6-46d7-bef2-3df6995dc90b",
   "metadata": {
    "id": "209ae8bc-f0c6-46d7-bef2-3df6995dc90b"
   },
   "outputs": [],
   "source": []
  },
  {
   "cell_type": "markdown",
   "id": "96f1b485-88f0-4899-860a-915a0ee6c3a4",
   "metadata": {
    "id": "96f1b485-88f0-4899-860a-915a0ee6c3a4"
   },
   "source": [
    "## Section 6: Matrices/Linear Algebra\n"
   ]
  },
  {
   "cell_type": "markdown",
   "id": "1e811806-378e-4f79-b429-fb0673b84f0e",
   "metadata": {
    "id": "1e811806-378e-4f79-b429-fb0673b84f0e"
   },
   "source": [
    "As shown earlier, one can make a matrix object with the *Matrix* method."
   ]
  },
  {
   "cell_type": "code",
   "execution_count": null,
   "id": "6d14b45f-ab58-4ae7-a323-1b344624335f",
   "metadata": {
    "id": "6d14b45f-ab58-4ae7-a323-1b344624335f"
   },
   "outputs": [],
   "source": []
  },
  {
   "cell_type": "code",
   "execution_count": null,
   "id": "31d47887-638b-4463-b87a-2fecaf1632aa",
   "metadata": {
    "id": "31d47887-638b-4463-b87a-2fecaf1632aa"
   },
   "outputs": [],
   "source": []
  },
  {
   "cell_type": "code",
   "execution_count": null,
   "id": "7aaadfee-005d-4423-a003-9fb9b2cc436d",
   "metadata": {
    "id": "7aaadfee-005d-4423-a003-9fb9b2cc436d"
   },
   "outputs": [],
   "source": []
  },
  {
   "cell_type": "code",
   "execution_count": null,
   "id": "b718f163-45e0-4321-a7b9-8408c4b0b0c4",
   "metadata": {
    "id": "b718f163-45e0-4321-a7b9-8408c4b0b0c4"
   },
   "outputs": [],
   "source": []
  },
  {
   "cell_type": "code",
   "execution_count": null,
   "id": "6c71c4f5-8d38-4389-80d5-eed6768a3838",
   "metadata": {
    "id": "6c71c4f5-8d38-4389-80d5-eed6768a3838"
   },
   "outputs": [],
   "source": []
  },
  {
   "cell_type": "code",
   "execution_count": null,
   "id": "fac3b16e-d1c5-4c1f-8f1d-bf5269e515f2",
   "metadata": {
    "id": "fac3b16e-d1c5-4c1f-8f1d-bf5269e515f2"
   },
   "outputs": [],
   "source": []
  },
  {
   "cell_type": "code",
   "execution_count": null,
   "id": "963ca0a9-44fb-4d5c-b411-3fa9f6621b77",
   "metadata": {
    "id": "963ca0a9-44fb-4d5c-b411-3fa9f6621b77"
   },
   "outputs": [],
   "source": []
  },
  {
   "cell_type": "code",
   "execution_count": null,
   "id": "2ef2a96c-26af-49fa-a9c1-5f4c21a72078",
   "metadata": {
    "id": "2ef2a96c-26af-49fa-a9c1-5f4c21a72078"
   },
   "outputs": [],
   "source": []
  },
  {
   "cell_type": "markdown",
   "id": "6024fafe-c88b-4b10-8252-e9179efb508d",
   "metadata": {
    "id": "6024fafe-c88b-4b10-8252-e9179efb508d"
   },
   "source": [
    "Regular matrix operations can be performed (+,*,^), and the inverse of a matrix can be easily taken. Do note these are not *array* operations (element-wise)."
   ]
  },
  {
   "cell_type": "code",
   "execution_count": null,
   "id": "e5a94517-d8c5-427b-adbf-51b3a06ab113",
   "metadata": {
    "id": "e5a94517-d8c5-427b-adbf-51b3a06ab113"
   },
   "outputs": [],
   "source": []
  },
  {
   "cell_type": "code",
   "execution_count": null,
   "id": "370e93f3-f1e6-48ba-af65-53a6d3d78d2e",
   "metadata": {
    "id": "370e93f3-f1e6-48ba-af65-53a6d3d78d2e"
   },
   "outputs": [],
   "source": []
  },
  {
   "cell_type": "code",
   "execution_count": null,
   "id": "bc63f8e9-557b-46f1-b6bd-9ef24e25a5fd",
   "metadata": {
    "id": "bc63f8e9-557b-46f1-b6bd-9ef24e25a5fd"
   },
   "outputs": [],
   "source": []
  },
  {
   "cell_type": "code",
   "execution_count": null,
   "id": "811508be-c1e1-483b-9a7b-5f0bff3a669e",
   "metadata": {
    "id": "811508be-c1e1-483b-9a7b-5f0bff3a669e"
   },
   "outputs": [],
   "source": []
  },
  {
   "cell_type": "code",
   "execution_count": null,
   "id": "fc66e89d-a220-4587-967b-0576565acdc6",
   "metadata": {
    "id": "fc66e89d-a220-4587-967b-0576565acdc6"
   },
   "outputs": [],
   "source": []
  },
  {
   "cell_type": "code",
   "execution_count": null,
   "id": "459ff802-3427-4536-8743-fc22f257488f",
   "metadata": {
    "id": "459ff802-3427-4536-8743-fc22f257488f"
   },
   "outputs": [],
   "source": []
  },
  {
   "cell_type": "code",
   "execution_count": null,
   "id": "17e5d495-e427-4be4-9ae5-0586e773e51f",
   "metadata": {
    "id": "17e5d495-e427-4be4-9ae5-0586e773e51f"
   },
   "outputs": [],
   "source": []
  },
  {
   "cell_type": "markdown",
   "id": "e4ebe22b-0c68-4e59-8f08-ea9f95384114",
   "metadata": {
    "id": "e4ebe22b-0c68-4e59-8f08-ea9f95384114"
   },
   "source": [
    "Other operations include *.reff()* (reduces to row echelon form), *.nullspace()*, *.columnspace()*, etc.  "
   ]
  },
  {
   "cell_type": "code",
   "execution_count": null,
   "id": "243ce63f-0351-4e17-999d-0c8cd14c4cb9",
   "metadata": {
    "id": "243ce63f-0351-4e17-999d-0c8cd14c4cb9"
   },
   "outputs": [],
   "source": []
  },
  {
   "cell_type": "code",
   "execution_count": null,
   "id": "3d203665-4517-4ff0-b09b-ba71f8bfdeaf",
   "metadata": {
    "id": "3d203665-4517-4ff0-b09b-ba71f8bfdeaf"
   },
   "outputs": [],
   "source": []
  },
  {
   "cell_type": "code",
   "execution_count": null,
   "id": "3c8e2253-e85d-41f2-bec1-0d4dcab48ecd",
   "metadata": {
    "id": "3c8e2253-e85d-41f2-bec1-0d4dcab48ecd"
   },
   "outputs": [],
   "source": []
  },
  {
   "cell_type": "code",
   "execution_count": null,
   "id": "ff761b2b-9ea2-4294-8535-3d2c76bbe885",
   "metadata": {
    "id": "ff761b2b-9ea2-4294-8535-3d2c76bbe885"
   },
   "outputs": [],
   "source": []
  },
  {
   "cell_type": "code",
   "execution_count": null,
   "id": "da9f740b-ae9b-4dac-9bd0-d5f168934373",
   "metadata": {
    "id": "da9f740b-ae9b-4dac-9bd0-d5f168934373"
   },
   "outputs": [],
   "source": []
  },
  {
   "cell_type": "code",
   "execution_count": null,
   "id": "135964bc-6f29-4011-b6cf-95e56b7ac2f6",
   "metadata": {
    "id": "135964bc-6f29-4011-b6cf-95e56b7ac2f6"
   },
   "outputs": [],
   "source": []
  },
  {
   "cell_type": "code",
   "execution_count": null,
   "id": "a527468d-5cc5-43ab-b8ac-9fa0cd2a4024",
   "metadata": {
    "id": "a527468d-5cc5-43ab-b8ac-9fa0cd2a4024"
   },
   "outputs": [],
   "source": []
  },
  {
   "cell_type": "markdown",
   "id": "c2888264-6792-42f6-88a9-386da57b59f5",
   "metadata": {
    "id": "c2888264-6792-42f6-88a9-386da57b59f5",
    "tags": []
   },
   "source": [
    "## Demo: Problems with Matrices/Systems of Equations"
   ]
  },
  {
   "cell_type": "markdown",
   "id": "0cef2404-81ff-4f99-bfe2-73b6e3fbdb26",
   "metadata": {
    "id": "0cef2404-81ff-4f99-bfe2-73b6e3fbdb26"
   },
   "source": []
  },
  {
   "cell_type": "markdown",
   "id": "a59dbe57-53ab-4fcd-8b89-5168b0b7966c",
   "metadata": {
    "id": "a59dbe57-53ab-4fcd-8b89-5168b0b7966c"
   },
   "source": [
    "Equations are: $$V_1 = I_1(R_1+R_3)-I_2R_3$$\n",
    "$$V_2 = I_2(R_2+R_3)-I_1R_3$$"
   ]
  },
  {
   "cell_type": "code",
   "execution_count": null,
   "id": "0bbfcd82-5590-4e51-b975-c9c4bc50f8ba",
   "metadata": {
    "id": "0bbfcd82-5590-4e51-b975-c9c4bc50f8ba"
   },
   "outputs": [],
   "source": [
    "V1, V2, R1, R2, R3, I1, I2 = symbols(\"V1:3 R1:4 I1:3\")\n",
    "\n",
    "sys = [I1*(R1+R3)-I2*R3-V1, I2*(R2+R3)-I1*R3-V2]\n",
    "vars = [I1, I2]\n",
    "\n",
    "cir = nonlinsolve(sys,vars)\n",
    "cir"
   ]
  },
  {
   "cell_type": "code",
   "execution_count": null,
   "id": "5526a2de-641a-4348-b95a-a0c1339380e2",
   "metadata": {
    "id": "5526a2de-641a-4348-b95a-a0c1339380e2"
   },
   "outputs": [],
   "source": [
    "cir.subs([(R1, 2),(R2,3), (R3,2), (V1,2), (V2,2)])"
   ]
  },
  {
   "cell_type": "markdown",
   "id": "3eea4ed0-c21b-40b3-accc-52293f41c5a1",
   "metadata": {
    "id": "3eea4ed0-c21b-40b3-accc-52293f41c5a1"
   },
   "source": [
    "ref: *Pearson, Casey. Matrices in Statics and Mechanics. https://docplayer.net/27028545-Matrices-in-statics-and-mechanics.html*"
   ]
  },
  {
   "cell_type": "markdown",
   "id": "8649b515-e8c3-4231-8356-567f206757b9",
   "metadata": {
    "id": "8649b515-e8c3-4231-8356-567f206757b9"
   },
   "source": [
    "We will solve for reaction forces $R_{1-3}$ and for torques $T_{1-7}$.\n",
    "E.g: For the lower left joint, the x-direction forces lead to: $$R_1+T_1cos(60^{\\circ})+T_2$$\n",
    "\n",
    "For 10 unknowns we need 10 equations. Without showing some of the tedious work, we can represent these equations by the **A**x = b form:\n",
    "\n",
    "A=\n",
    "\\begin{bmatrix}\n",
    "1 & 1/2 & 1 & 0 & 0 & 0 & 0 & 0 & 0 & 0\\\\\n",
    "0 & \\sqrt(3)/2 & 0 & 1 & 0 & 0 & 0 & 0 & 0 & 0\\\\\n",
    "0 & 0 & -1 & 0 & -1/2 & 1/2 & 0 & 0 & 0 & 0\\\\\n",
    "0 & 0 & 0 & 0 & \\sqrt(3)/2 & \\sqrt(3)/2 & 0 & 0 & 0 & 0\\\\\n",
    "0 & 0 & 0 & 0 & 0 & 0 & -1 & -1/2 & 0 & 0\\\\\n",
    "0 & 0 & 0 & 0 & 0 & 0 & 0 & \\sqrt(3)/2 & 1 & 0\\\\\n",
    "0 & -1/2 & 0 & 1/2 & 0 & 0 & 0 & 0 & 0 & 1\\\\\n",
    "0 & -\\sqrt(3)/2 & 0 & 0 & -\\sqrt(3)/2 & 0 & 0 & 0 & 0 & 0\\\\\n",
    "0 & 0 & 0 & 0 & 0 & -1/2 & 0 & 1/2 & 0 & -1\\\\\n",
    "0 & 0 & 0 & 0 & 0 & -\\sqrt(3)/2 & 0 & -\\sqrt(3)/2 & 0 & 0\n",
    "\\end{bmatrix}\n",
    "x=\n",
    "\\begin{bmatrix}\n",
    "R_1\\\\\n",
    "T_1\\\\\n",
    "T_2\\\\\n",
    "R_2\\\\\n",
    "T_3\\\\\n",
    "T_4\\\\\n",
    "T_5\\\\\n",
    "T_6\\\\\n",
    "R_3\\\\\n",
    "T_7\\\\\n",
    "\\end{bmatrix}\n",
    "\n",
    "b = \\begin{bmatrix}\n",
    "F_{1x}\\\\\n",
    "F_{1y}\\\\\n",
    "F_{2x}\\\\\n",
    "F_{2y}\\\\\n",
    "F_{3x}\\\\\n",
    "F_{3y}\\\\\n",
    "F_{4x}\\\\\n",
    "F_{4y}\\\\\n",
    "F_{5x}\\\\\n",
    "F_{5y}\\\\\n",
    "\\end{bmatrix}"
   ]
  },
  {
   "cell_type": "code",
   "execution_count": null,
   "id": "cd37a3bc-a078-458d-8f2c-cb6feabcdedb",
   "metadata": {
    "id": "cd37a3bc-a078-458d-8f2c-cb6feabcdedb"
   },
   "outputs": [],
   "source": [
    "R1, R2, R3, T1, T2, T3, T4, T5, T6, T7, F1x, F2x, F3x, F4x,F5x, F1y,F2y, F3y,F4y, F5y = symbols(\"R1:4, T1:8, Fx1:6, Fy1:6\")\n",
    "mat = Matrix([[1 , 1/2 , 1 , 0 , 0 , 0 , 0 , 0 , 0 , 0, F1x],\n",
    "[0 , sqrt(3)/2 , 0 , 1 , 0 , 0 , 0 , 0 , 0 , 0, F1y],\n",
    "[0 , 0 , -1 , 0 , -1/2 , 1/2 , 0 , 0 , 0 , 0, F2x],\n",
    "[0 , 0 , 0 , 0 , sqrt(3)/2 , sqrt(3)/2 , 0 , 0 , 0 , 0,F2y],\n",
    "[0 , 0 , 0 , 0 , 0 , 0 , -1 , -1/2 , 0 , 0, F3x],\n",
    "[0 , 0 , 0 , 0 , 0 , 0 , 0 , sqrt(3)/2 , 1 , 0,F3y],\n",
    "[0 , -1/2 , 0 , 1/2 , 0 , 0 , 0 , 0 , 0 , 1, F4x],\n",
    "[0 , -sqrt(3)/2 , 0 , 0 , -sqrt(3)/2 , 0 , 0 , 0 , 0 , 0,F4y],\n",
    "[0 , 0 , 0 , 0 , 0 , -1/2 , 0 , 1/2 , 0 , -1, F5x],\n",
    "[0 , 0 , 0 , 0 , 0 , -sqrt(3)/2 , 0 , -sqrt(3)/2 , 0 , 0,F5y]])\n",
    "mat\n"
   ]
  },
  {
   "cell_type": "code",
   "execution_count": null,
   "id": "cefd72ff-3297-43b3-83ea-c6febb5ed453",
   "metadata": {
    "id": "cefd72ff-3297-43b3-83ea-c6febb5ed453"
   },
   "outputs": [],
   "source": [
    "vars = (R1,T1,T2,R2,T3,T4,T5,T6,R3,T7)\n",
    "solution = linsolve(mat, vars)\n",
    "solution"
   ]
  },
  {
   "cell_type": "code",
   "execution_count": null,
   "id": "46d99958-4c01-4d11-be8f-fbb00dcafe97",
   "metadata": {
    "id": "46d99958-4c01-4d11-be8f-fbb00dcafe97"
   },
   "outputs": [],
   "source": [
    "solutions = solution.subs([(F1x, 10),(F2x, 10),(F3x, 10),(F4x, 10),(F5x, 10),(F1y, 10),(F2y, 10),(F3y, 10),(F4y, 10),(F5y, 10)]).args[0]\n",
    "solutions"
   ]
  },
  {
   "cell_type": "code",
   "execution_count": null,
   "id": "35e08bfc-c760-4a21-99a2-55068163021d",
   "metadata": {
    "id": "35e08bfc-c760-4a21-99a2-55068163021d"
   },
   "outputs": [],
   "source": [
    "for i in range(10):\n",
    "    print(\"{} = {} N\".format(vars[i], solutions[i].evalf()))\n"
   ]
  },
  {
   "cell_type": "markdown",
   "id": "187a0ef7-913b-4471-81c9-539aebe4cd0e",
   "metadata": {
    "id": "187a0ef7-913b-4471-81c9-539aebe4cd0e"
   },
   "source": [
    "## Section 7: Numerical Analysis and Typesetting\n"
   ]
  },
  {
   "cell_type": "code",
   "execution_count": null,
   "id": "e8ce2ce7-0aef-4785-95a4-a25f3e2163b3",
   "metadata": {
    "id": "e8ce2ce7-0aef-4785-95a4-a25f3e2163b3"
   },
   "outputs": [],
   "source": []
  },
  {
   "cell_type": "markdown",
   "id": "2a82c9e6-0299-4bfd-b32c-b976c3dca58b",
   "metadata": {
    "id": "2a82c9e6-0299-4bfd-b32c-b976c3dca58b"
   },
   "source": [
    "The *lambdify* function allows you to convert any SymPy expression into a numerical function (in your package of choice)."
   ]
  },
  {
   "cell_type": "code",
   "execution_count": null,
   "id": "64dcc346-7244-410d-9e04-19e8e06077dd",
   "metadata": {
    "id": "64dcc346-7244-410d-9e04-19e8e06077dd"
   },
   "outputs": [],
   "source": []
  },
  {
   "cell_type": "code",
   "execution_count": null,
   "id": "08824960-7b24-4118-b77f-dc04c2511df0",
   "metadata": {
    "id": "08824960-7b24-4118-b77f-dc04c2511df0"
   },
   "outputs": [],
   "source": []
  },
  {
   "cell_type": "code",
   "execution_count": null,
   "id": "278f6d19-fe6d-4ab3-aeff-f3fde73c7561",
   "metadata": {
    "id": "278f6d19-fe6d-4ab3-aeff-f3fde73c7561"
   },
   "outputs": [],
   "source": []
  },
  {
   "cell_type": "markdown",
   "id": "2f97c7f9-e26a-4630-9fae-6cc107105368",
   "metadata": {
    "id": "2f97c7f9-e26a-4630-9fae-6cc107105368"
   },
   "source": [
    "Generate points with *np.linspace(start,stop,n)* and plot with *plt.plot(x,y)*."
   ]
  },
  {
   "cell_type": "code",
   "execution_count": null,
   "id": "106b8559-8d38-4b56-a802-7bea34a823b4",
   "metadata": {
    "id": "106b8559-8d38-4b56-a802-7bea34a823b4"
   },
   "outputs": [],
   "source": []
  },
  {
   "cell_type": "code",
   "execution_count": null,
   "id": "af83bfe7-ec81-4812-9c8a-b5151919067f",
   "metadata": {
    "id": "af83bfe7-ec81-4812-9c8a-b5151919067f"
   },
   "outputs": [],
   "source": []
  },
  {
   "cell_type": "markdown",
   "id": "535f72b6-34fc-49ee-b546-4661c62eb204",
   "metadata": {
    "id": "535f72b6-34fc-49ee-b546-4661c62eb204"
   },
   "source": [
    "## Demo: Functions of Two Variables"
   ]
  },
  {
   "cell_type": "code",
   "execution_count": null,
   "id": "ef62789c-baa4-4355-86c6-2e184ad287d0",
   "metadata": {
    "id": "ef62789c-baa4-4355-86c6-2e184ad287d0"
   },
   "outputs": [],
   "source": [
    "x = np.linspace(-10,10,250)\n",
    "#x = np.linspace(0,10,500)\n",
    "plt.figure(figsize=(11,11), dpi=80)\n",
    "\n",
    "xr, yr = np.meshgrid(x,x)\n",
    "\n",
    "x, y = symbols(\"x y\")\n",
    "exprr = sin(x)+cos(y)#x**2+y**2#sin(x**y)+cos(y**x) #Try x**2+y**2, -,\n",
    "fr = lambdify([x,y], exprr)\n",
    "%matplotlib inline\n",
    "\n",
    "plt.pcolormesh(xr,yr, fr(xr,yr),  shading = 'auto', cmap = 'inferno')\n",
    "plt.colorbar(fraction=0.046, pad=0.04)\n",
    "plt.xlabel(x)\n",
    "plt.ylabel(y)\n",
    "plt.title(\"F(x,y)\")\n",
    "plt.show()"
   ]
  },
  {
   "cell_type": "code",
   "execution_count": null,
   "id": "68632cc5-fa0b-4cf3-ac61-6945cfc06aac",
   "metadata": {
    "id": "68632cc5-fa0b-4cf3-ac61-6945cfc06aac"
   },
   "outputs": [],
   "source": [
    "%matplotlib inline\n",
    "\n",
    "fig = plt.figure()\n",
    "ax = plt.axes(projection='3d')\n",
    "ax.contour3D(xr, yr, fr(xr,yr), 250, cmap='inferno')\n",
    "ax.set_xlabel('x')\n",
    "ax.set_ylabel('y')\n",
    "ax.set_zlabel('f(x,y)')\n",
    "ax.view_init(40, 55)\n"
   ]
  },
  {
   "cell_type": "code",
   "execution_count": null,
   "id": "bedd351b-857c-4517-893b-0a81eee70c2d",
   "metadata": {
    "id": "bedd351b-857c-4517-893b-0a81eee70c2d"
   },
   "outputs": [],
   "source": [
    "print(latex(Integral(cos(x)**2, (x, 0, pi))))"
   ]
  },
  {
   "cell_type": "markdown",
   "id": "f5b006ef-669a-4379-9ac2-fd042bf5b434",
   "metadata": {
    "id": "f5b006ef-669a-4379-9ac2-fd042bf5b434"
   },
   "source": [
    "$\\int\\limits_{0}^{\\pi} \\cos^{2}{\\left(x \\right)}\\, dx\n",
    "$"
   ]
  },
  {
   "cell_type": "markdown",
   "id": "a8f543f3-9a2b-4715-af79-42d373516c79",
   "metadata": {
    "id": "a8f543f3-9a2b-4715-af79-42d373516c79"
   },
   "source": [
    "## Section 8: Solving the Schrödinger Equation in One Dimension\n"
   ]
  },
  {
   "cell_type": "markdown",
   "id": "b0e43abe-78f9-409d-ab1d-b48e64abcf3e",
   "metadata": {
    "id": "b0e43abe-78f9-409d-ab1d-b48e64abcf3e"
   },
   "source": []
  },
  {
   "cell_type": "code",
   "execution_count": null,
   "id": "36f7afab-027d-4d40-9b14-885f5ebcc15c",
   "metadata": {
    "id": "36f7afab-027d-4d40-9b14-885f5ebcc15c"
   },
   "outputs": [],
   "source": []
  },
  {
   "cell_type": "markdown",
   "id": "761fca95-7b16-44c5-8a8e-09c0a9d4920f",
   "metadata": {
    "id": "761fca95-7b16-44c5-8a8e-09c0a9d4920f"
   },
   "source": [
    "Griffiths, D., & Schroeter, D. (2018). Introduction to Quantum Mechanics (3rd ed.). Cambridge: Cambridge University Press. doi:10.1017/9781316995433\n",
    "\n",
    "We will treat the classic example of the infinite square well. The potential for this is 0 inside the well, and $\\infty$ anywhere else:\n",
    "\\begin{equation*}\n",
    "    V(x) =\n",
    "    \\begin{cases}\n",
    "        0, \\ if \\  0\\le x \\le a\\\\\n",
    "        \\infty, \\ otherwise\n",
    "    \\end{cases}\n",
    "\\end{equation*}\n",
    "\n",
    "We set V = 0 for solving, and we now have boundary conditions:\n",
    "$$\\psi(0)=\\psi(a) =0$$\n"
   ]
  },
  {
   "cell_type": "code",
   "execution_count": null,
   "id": "cbe0640c-8d59-48c5-80f2-9e4a67333ce3",
   "metadata": {
    "id": "cbe0640c-8d59-48c5-80f2-9e4a67333ce3"
   },
   "outputs": [],
   "source": []
  },
  {
   "cell_type": "markdown",
   "id": "f7006ac5-ed0c-49be-ab90-62f788aeda9a",
   "metadata": {
    "id": "f7006ac5-ed0c-49be-ab90-62f788aeda9a"
   },
   "source": [
    "$k = \\sqrt{2mE}/\\hbar$"
   ]
  },
  {
   "cell_type": "code",
   "execution_count": null,
   "id": "67251652-3771-4e89-9739-ad8c6b167375",
   "metadata": {
    "id": "67251652-3771-4e89-9739-ad8c6b167375"
   },
   "outputs": [],
   "source": []
  },
  {
   "cell_type": "code",
   "execution_count": null,
   "id": "5250ed10-b8ec-4529-af7d-fd0b18c397c7",
   "metadata": {
    "id": "5250ed10-b8ec-4529-af7d-fd0b18c397c7"
   },
   "outputs": [],
   "source": []
  },
  {
   "cell_type": "code",
   "execution_count": null,
   "id": "100b9128-2b75-4bf3-acc6-af10d91d1c6a",
   "metadata": {
    "id": "100b9128-2b75-4bf3-acc6-af10d91d1c6a"
   },
   "outputs": [],
   "source": []
  },
  {
   "cell_type": "code",
   "execution_count": null,
   "id": "09fca23c-16d7-496a-9de5-7b02c71117c7",
   "metadata": {
    "id": "09fca23c-16d7-496a-9de5-7b02c71117c7"
   },
   "outputs": [],
   "source": []
  },
  {
   "cell_type": "markdown",
   "id": "ed9bebd8-14e1-452e-ae58-530d4f0e81a8",
   "metadata": {
    "id": "ed9bebd8-14e1-452e-ae58-530d4f0e81a8"
   },
   "source": [
    "$\\psi(0) = 0 = C_1sin(0)+C_2cos(0)$"
   ]
  },
  {
   "cell_type": "code",
   "execution_count": null,
   "id": "f529445b-e1f5-4f6e-adb9-1537f096ed5a",
   "metadata": {
    "id": "f529445b-e1f5-4f6e-adb9-1537f096ed5a"
   },
   "outputs": [],
   "source": []
  },
  {
   "cell_type": "markdown",
   "id": "fbdc46e9-6903-4977-941c-e5222e99ea82",
   "metadata": {
    "id": "fbdc46e9-6903-4977-941c-e5222e99ea82"
   },
   "source": [
    "$\\psi(a) = 0 = C_1sin(ka)+C_2cos(ka)$"
   ]
  },
  {
   "cell_type": "code",
   "execution_count": null,
   "id": "d4bd058c-8511-4af0-a543-dc4813ddffd1",
   "metadata": {
    "id": "d4bd058c-8511-4af0-a543-dc4813ddffd1"
   },
   "outputs": [],
   "source": []
  },
  {
   "cell_type": "code",
   "execution_count": null,
   "id": "3f212828-3c53-475f-a2e7-d840dbdae979",
   "metadata": {
    "id": "3f212828-3c53-475f-a2e7-d840dbdae979"
   },
   "outputs": [],
   "source": []
  },
  {
   "cell_type": "code",
   "execution_count": null,
   "id": "24c4b01e-8c2f-49b3-a21e-0fbe6becf934",
   "metadata": {
    "id": "24c4b01e-8c2f-49b3-a21e-0fbe6becf934"
   },
   "outputs": [],
   "source": []
  },
  {
   "cell_type": "code",
   "execution_count": null,
   "id": "718fd10a-5862-402a-9697-ce611ec1f404",
   "metadata": {
    "id": "718fd10a-5862-402a-9697-ce611ec1f404"
   },
   "outputs": [],
   "source": []
  },
  {
   "cell_type": "code",
   "execution_count": null,
   "id": "66948ac7-8f90-415a-b438-45e9cc18eb76",
   "metadata": {
    "id": "66948ac7-8f90-415a-b438-45e9cc18eb76"
   },
   "outputs": [],
   "source": []
  },
  {
   "cell_type": "code",
   "execution_count": null,
   "id": "a706ab03-9d4f-4416-8be9-2a40f4803814",
   "metadata": {
    "id": "a706ab03-9d4f-4416-8be9-2a40f4803814"
   },
   "outputs": [],
   "source": []
  },
  {
   "cell_type": "markdown",
   "id": "7bf60488-fabe-4719-bee5-daabbdcbf939",
   "metadata": {
    "id": "7bf60488-fabe-4719-bee5-daabbdcbf939"
   },
   "source": [
    "I.e, since $n\\ge1$, $$k = \\frac{n\\pi}{a}, n \\in \\mathbb{N}$$"
   ]
  },
  {
   "cell_type": "code",
   "execution_count": null,
   "id": "fe12066b-b2eb-4522-a6f1-8d085de3bbe3",
   "metadata": {
    "id": "fe12066b-b2eb-4522-a6f1-8d085de3bbe3"
   },
   "outputs": [],
   "source": []
  },
  {
   "cell_type": "markdown",
   "id": "6f2b64f7-d0d3-451a-a122-82d87b21700f",
   "metadata": {
    "id": "6f2b64f7-d0d3-451a-a122-82d87b21700f"
   },
   "source": [
    "We normalize the wavefunction, so that the total probability is equal to 1. Since $\\| C_1\\psi(x)\\|^2$ is the probability density:\n",
    "\n",
    "$$\\int_{-\\infty}^{\\infty}\\|C_1\\|^2\\|\\psi(x)\\|^2 = 1$$\n",
    "\n",
    "Solving for C1 (and taking only positive solutions):\n",
    "\n",
    "$$C_{1}^{2} = \\frac{1}{\\int\\limits_{0}^{a} \\sin^{2}{\\left(\\frac{\\pi n x}{a} \\right)}\\, dx}\n",
    "$$"
   ]
  },
  {
   "cell_type": "code",
   "execution_count": null,
   "id": "6aa93837-f992-44f5-a796-6f2926c7876a",
   "metadata": {
    "id": "6aa93837-f992-44f5-a796-6f2926c7876a"
   },
   "outputs": [],
   "source": []
  },
  {
   "cell_type": "code",
   "execution_count": null,
   "id": "487fc653-8e99-450e-b44e-4dffe01e0f35",
   "metadata": {
    "id": "487fc653-8e99-450e-b44e-4dffe01e0f35"
   },
   "outputs": [],
   "source": []
  },
  {
   "cell_type": "code",
   "execution_count": null,
   "id": "59c56cdf-ae06-4e64-9874-d1b5e8d04c75",
   "metadata": {
    "id": "59c56cdf-ae06-4e64-9874-d1b5e8d04c75"
   },
   "outputs": [],
   "source": []
  },
  {
   "cell_type": "code",
   "execution_count": null,
   "id": "067cddfc-020b-453c-bf19-beaea6692fd8",
   "metadata": {
    "id": "067cddfc-020b-453c-bf19-beaea6692fd8"
   },
   "outputs": [],
   "source": []
  },
  {
   "cell_type": "code",
   "execution_count": null,
   "id": "81176ed7-df89-4b0d-ac4d-d4a46e56cb03",
   "metadata": {
    "id": "81176ed7-df89-4b0d-ac4d-d4a46e56cb03"
   },
   "outputs": [],
   "source": []
  },
  {
   "cell_type": "code",
   "execution_count": null,
   "id": "f8e91a57-c97e-4172-9fa7-5b713c70d0f3",
   "metadata": {
    "id": "f8e91a57-c97e-4172-9fa7-5b713c70d0f3"
   },
   "outputs": [],
   "source": []
  },
  {
   "cell_type": "code",
   "execution_count": null,
   "id": "fb450788-906c-49ea-b2ba-1e1562574609",
   "metadata": {
    "id": "fb450788-906c-49ea-b2ba-1e1562574609",
    "tags": []
   },
   "outputs": [],
   "source": []
  },
  {
   "cell_type": "code",
   "execution_count": null,
   "id": "f3a496cc-1961-4035-864f-744f6d516c2e",
   "metadata": {
    "id": "f3a496cc-1961-4035-864f-744f6d516c2e"
   },
   "outputs": [],
   "source": []
  },
  {
   "cell_type": "code",
   "execution_count": null,
   "id": "f4f14838-9fd6-4381-9588-4e94c557b52d",
   "metadata": {
    "id": "f4f14838-9fd6-4381-9588-4e94c557b52d"
   },
   "outputs": [],
   "source": []
  },
  {
   "cell_type": "markdown",
   "id": "cd7fed42-ace6-4af3-b991-ac08bd3ee431",
   "metadata": {
    "id": "cd7fed42-ace6-4af3-b991-ac08bd3ee431"
   },
   "source": [
    "**Ref:** Meurer A, Smith CP, Paprocki M, Čertík O, Kirpichev SB, Rocklin M, Kumar A,\n",
    "Ivanov S, Moore JK, Singh S, Rathnayake T, Vig S, Granger BE, Muller RP,\n",
    "Bonazzi F, Gupta H, Vats S, Johansson F, Pedregosa F, Curry MJ, Terrel AR,\n",
    "Roučka Š, Saboo A, Fernando I, Kulal S, Cimrman R, Scopatz A. (2017) SymPy:\n",
    "symbolic computing in Python. *PeerJ Computer Science* 3:e103\n",
    "https://doi.org/10.7717/peerj-cs.103\n",
    "\n",
    "Some examples taken from: https://github.com/lukepolson/youtube_channel"
   ]
  }
 ],
 "metadata": {
  "colab": {
   "provenance": []
  },
  "kernelspec": {
   "display_name": "Python 3 (ipykernel)",
   "language": "python",
   "name": "python3"
  },
  "language_info": {
   "codemirror_mode": {
    "name": "ipython",
    "version": 3
   },
   "file_extension": ".py",
   "mimetype": "text/x-python",
   "name": "python",
   "nbconvert_exporter": "python",
   "pygments_lexer": "ipython3",
   "version": "3.10.12"
  }
 },
 "nbformat": 4,
 "nbformat_minor": 5
}
